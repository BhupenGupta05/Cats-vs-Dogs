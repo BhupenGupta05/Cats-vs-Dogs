{
 "cells": [
  {
   "cell_type": "code",
   "execution_count": 1,
   "metadata": {
    "_cell_guid": "b1076dfc-b9ad-4769-8c92-a6c4dae69d19",
    "_uuid": "8f2839f25d086af736a60e9eeb907d3b93b6e0e5"
   },
   "outputs": [
    {
     "name": "stdout",
     "output_type": "stream",
     "text": [
      "/kaggle/input/dogs-vs-cats-redux-kernels-edition/sample_submission.csv\n",
      "/kaggle/input/dogs-vs-cats-redux-kernels-edition/test.zip\n",
      "/kaggle/input/dogs-vs-cats-redux-kernels-edition/train.zip\n"
     ]
    }
   ],
   "source": [
    "# This Python 3 environment comes with many helpful analytics libraries installed\n",
    "# It is defined by the kaggle/python Docker image: https://github.com/kaggle/docker-python\n",
    "# For example, here's several helpful packages to load\n",
    "\n",
    "import numpy as np # linear algebra\n",
    "import pandas as pd # data processing, CSV file I/O (e.g. pd.read_csv)\n",
    "\n",
    "# Input data files are available in the read-only \"../input/\" directory\n",
    "# For example, running this (by clicking run or pressing Shift+Enter) will list all files under the input directory\n",
    "\n",
    "import os\n",
    "for dirname, _, filenames in os.walk('/kaggle/input'):\n",
    "    for filename in filenames:\n",
    "        print(os.path.join(dirname, filename))\n",
    "\n",
    "# You can write up to 5GB to the current directory (/kaggle/working/) that gets preserved as output when you create a version using \"Save & Run All\" \n",
    "# You can also write temporary files to /kaggle/temp/, but they won't be saved outside of the current session"
   ]
  },
  {
   "cell_type": "markdown",
   "execution_count": null,
   "metadata": {},
   "source": [
    "# Importing Libraries"
   ]
  },
  {
   "cell_type": "code",
   "execution_count": 2,
   "metadata": {
    "_cell_guid": "79c7e3d0-c299-4dcb-8224-4455121ee9b0",
    "_uuid": "d629ff2d2480ee46fbb7e2d37f6b5fab8052498a"
   },
   "outputs": [],
   "source": [
    "import zipfile\n",
    "import random\n",
    "import tensorflow as tf\n",
    "from tensorflow import keras\n",
    "import keras_preprocessing\n",
    "from keras_preprocessing import image\n",
    "from keras_preprocessing.image import ImageDataGenerator\n",
    "from shutil import copyfile\n",
    "from tensorflow.keras.regularizers import l2\n",
    "import matplotlib.pyplot as plt"
   ]
  },
  {
   "cell_type": "markdown",
   "execution_count": null,
   "metadata": {},
   "source": [
    "**Extracting training set into a directory named 'training'.**"
   ]
  },
  {
   "cell_type": "code",
   "execution_count": 3,
   "metadata": {},
   "outputs": [],
   "source": [
    "local_zip = '/kaggle/input/dogs-vs-cats-redux-kernels-edition/train.zip'\n",
    "zip_ref = zipfile.ZipFile(local_zip, 'r')\n",
    "zip_ref.extractall('training')\n",
    "zip_ref.close()"
   ]
  },
  {
   "cell_type": "markdown",
   "execution_count": null,
   "metadata": {},
   "source": [
    "**Checking whether the zip files were extracted or not.**"
   ]
  },
  {
   "cell_type": "code",
   "execution_count": 4,
   "metadata": {},
   "outputs": [
    {
     "name": "stdout",
     "output_type": "stream",
     "text": [
      "25000\n"
     ]
    }
   ],
   "source": [
    "print(len(os.listdir('/kaggle/working/training/train')))"
   ]
  },
  {
   "cell_type": "markdown",
   "execution_count": null,
   "metadata": {},
   "source": [
    "**Make different directories for training and testing (cats and dogs).**"
   ]
  },
  {
   "cell_type": "code",
   "execution_count": 5,
   "metadata": {},
   "outputs": [],
   "source": [
    "base_dir = '/kaggle/working'\n",
    "train_dir = os.makedirs(os.path.join(base_dir, 'train'))\n",
    "validation_dir = os.makedirs(os.path.join(base_dir, 'validation'))\n",
    "\n",
    "# Directory with our training cat pictures\n",
    "train_cats_dir = os.makedirs('/kaggle/working/train/cats')\n",
    "\n",
    "# Directory with our training dog pictures\n",
    "train_dogs_dir = os.makedirs('/kaggle/working/train/dogs')\n",
    "\n",
    "# Directory with our validation cat pictures\n",
    "validation_cats_dir = os.makedirs('/kaggle/working/validation/cats')\n",
    "\n",
    "# Directory with our validation dog pictures\n",
    "validation_dogs_dir = os.makedirs('/kaggle/working/validation/dogs')"
   ]
  },
  {
   "cell_type": "markdown",
   "execution_count": null,
   "metadata": {},
   "source": [
    "**Appending files into the training directory and then dividing them into training and validation sets.**"
   ]
  },
  {
   "cell_type": "code",
   "execution_count": 6,
   "metadata": {},
   "outputs": [
    {
     "name": "stdout",
     "output_type": "stream",
     "text": [
      "25000\n",
      "Train-set size: 20000\n",
      "Validation-set size: 5000\n"
     ]
    }
   ],
   "source": [
    "list_images = os.listdir(\"/kaggle/working/training/train/\")\n",
    "print(len(list_images))\n",
    "files = []\n",
    "for file_name in list_images:\n",
    "    if(os.path.getsize(\"/kaggle/working/training/train/\" + file_name)) > 0:\n",
    "        files.append(file_name)\n",
    "    else:\n",
    "        print(file_name + \"has zero length!\")\n",
    "        \n",
    "files = random.sample(files, len(files))\n",
    "train_set = files[0 : round(0.8*len(files))]\n",
    "val_set = files[-(len(files) - len(train_set)) : ]\n",
    "print(\"Train-set size:\", len(train_set))\n",
    "print(\"Validation-set size:\", len(val_set))\n",
    "\n",
    "\n",
    "for file_name in train_set:\n",
    "    if('cat' in file_name):        \n",
    "        copyfile(\"/kaggle/working/training/train/\" + file_name, \"/kaggle/working/train/cats/\" + file_name)\n",
    "    elif('dog' in file_name):\n",
    "        copyfile(\"/kaggle/working/training/train/\" + file_name, \"/kaggle/working/train/dogs/\" + file_name)\n",
    "        \n",
    "for file_name in val_set:\n",
    "    if('cat' in file_name):        \n",
    "        copyfile(\"/kaggle/working/training/train/\" + file_name, \"/kaggle/working/validation/cats/\" + file_name)\n",
    "    elif('dog' in file_name):\n",
    "        copyfile(\"/kaggle/working/training/train/\" + file_name, \"/kaggle/working/validation/dogs/\" + file_name)"
   ]
  },
  {
   "cell_type": "code",
   "execution_count": 7,
   "metadata": {},
   "outputs": [
    {
     "name": "stdout",
     "output_type": "stream",
     "text": [
      "No. of cats in train set  9989\n",
      "No. of dogs in train set  10011\n",
      "No. of cats in validation set  2511\n",
      "No. of dogs in validation set  2489\n"
     ]
    }
   ],
   "source": [
    "print(\"No. of cats in train set \", len(os.listdir(\"/kaggle/working/train/cats/\")))\n",
    "print(\"No. of dogs in train set \", len(os.listdir(\"/kaggle/working/train/dogs/\")))\n",
    "print(\"No. of cats in validation set \", len(os.listdir(\"/kaggle/working/validation/cats/\")))\n",
    "print(\"No. of dogs in validation set \", len(os.listdir(\"/kaggle/working/validation/dogs/\")))"
   ]
  },
  {
   "cell_type": "markdown",
   "execution_count": null,
   "metadata": {},
   "source": [
    "# Preparing training and validation data"
   ]
  },
  {
   "cell_type": "code",
   "execution_count": 8,
   "metadata": {},
   "outputs": [
    {
     "name": "stdout",
     "output_type": "stream",
     "text": [
      "Found 20000 images belonging to 2 classes.\n",
      "Found 5000 images belonging to 2 classes.\n"
     ]
    }
   ],
   "source": [
    "training_dir = \"/kaggle/working/train/\"\n",
    "train_datagen = ImageDataGenerator(\n",
    "                rescale=1./255,\n",
    "                shear_range=0.1,\n",
    "                zoom_range=0.1,\n",
    "                horizontal_flip=True)\n",
    "\n",
    "train_generator = train_datagen.flow_from_directory(\n",
    "                  training_dir,\n",
    "                  batch_size=32,\n",
    "                  class_mode='binary',\n",
    "                  target_size=(200, 200))\n",
    "\n",
    "validation_dir =  \"/kaggle/working/validation/\"\n",
    "validation_datagen = ImageDataGenerator(rescale=1./255)\n",
    "\n",
    "validation_generator = validation_datagen.flow_from_directory(\n",
    "                       validation_dir,\n",
    "                       batch_size=32,\n",
    "                       class_mode='binary',\n",
    "                       target_size=(200, 200))"
   ]
  },
  {
   "cell_type": "markdown",
   "execution_count": null,
   "metadata": {},
   "source": [
    "# Model"
   ]
  },
  {
   "cell_type": "markdown",
   "execution_count": null,
   "metadata": {},
   "source": [
    "**Here, we have built a Sequential model with 5 convolution layers with the image size 200X200 and a Dense layer with 1024 neurons. We have also specified callbacks based on validation accuracy(patience means process will come to a halt after the no. of epochs for which val_acc doesn't improve).**"
   ]
  },
  {
   "cell_type": "code",
   "execution_count": 9,
   "metadata": {},
   "outputs": [
    {
     "name": "stdout",
     "output_type": "stream",
     "text": [
      "Model: \"sequential\"\n",
      "_________________________________________________________________\n",
      "Layer (type)                 Output Shape              Param #   \n",
      "=================================================================\n",
      "conv2d (Conv2D)              (None, 198, 198, 64)      1792      \n",
      "_________________________________________________________________\n",
      "batch_normalization (BatchNo (None, 198, 198, 64)      256       \n",
      "_________________________________________________________________\n",
      "max_pooling2d (MaxPooling2D) (None, 99, 99, 64)        0         \n",
      "_________________________________________________________________\n",
      "conv2d_1 (Conv2D)            (None, 97, 97, 64)        36928     \n",
      "_________________________________________________________________\n",
      "batch_normalization_1 (Batch (None, 97, 97, 64)        256       \n",
      "_________________________________________________________________\n",
      "max_pooling2d_1 (MaxPooling2 (None, 48, 48, 64)        0         \n",
      "_________________________________________________________________\n",
      "conv2d_2 (Conv2D)            (None, 46, 46, 128)       73856     \n",
      "_________________________________________________________________\n",
      "batch_normalization_2 (Batch (None, 46, 46, 128)       512       \n",
      "_________________________________________________________________\n",
      "max_pooling2d_2 (MaxPooling2 (None, 23, 23, 128)       0         \n",
      "_________________________________________________________________\n",
      "conv2d_3 (Conv2D)            (None, 21, 21, 256)       295168    \n",
      "_________________________________________________________________\n",
      "batch_normalization_3 (Batch (None, 21, 21, 256)       1024      \n",
      "_________________________________________________________________\n",
      "max_pooling2d_3 (MaxPooling2 (None, 10, 10, 256)       0         \n",
      "_________________________________________________________________\n",
      "conv2d_4 (Conv2D)            (None, 8, 8, 256)         590080    \n",
      "_________________________________________________________________\n",
      "batch_normalization_4 (Batch (None, 8, 8, 256)         1024      \n",
      "_________________________________________________________________\n",
      "max_pooling2d_4 (MaxPooling2 (None, 4, 4, 256)         0         \n",
      "_________________________________________________________________\n",
      "flatten (Flatten)            (None, 4096)              0         \n",
      "_________________________________________________________________\n",
      "dense (Dense)                (None, 1024)              4195328   \n",
      "_________________________________________________________________\n",
      "batch_normalization_5 (Batch (None, 1024)              4096      \n",
      "_________________________________________________________________\n",
      "dropout (Dropout)            (None, 1024)              0         \n",
      "_________________________________________________________________\n",
      "dense_1 (Dense)              (None, 1)                 1025      \n",
      "=================================================================\n",
      "Total params: 5,201,345\n",
      "Trainable params: 5,197,761\n",
      "Non-trainable params: 3,584\n",
      "_________________________________________________________________\n",
      "Epoch 1/100\n",
      "625/625 [==============================] - 240s 384ms/step - loss: 1.6185 - acc: 0.6726 - val_loss: 1.0356 - val_acc: 0.6677 - lr: 0.0010\n",
      "Epoch 2/100\n",
      "625/625 [==============================] - 243s 389ms/step - loss: 0.6955 - acc: 0.7926 - val_loss: 0.8726 - val_acc: 0.7059 - lr: 0.0010\n",
      "Epoch 3/100\n",
      "625/625 [==============================] - 246s 393ms/step - loss: 0.5164 - acc: 0.8530 - val_loss: 0.5056 - val_acc: 0.8602 - lr: 0.0010\n",
      "Epoch 4/100\n",
      "625/625 [==============================] - 244s 390ms/step - loss: 0.4648 - acc: 0.8844 - val_loss: 0.4744 - val_acc: 0.8910 - lr: 0.0010\n",
      "Epoch 5/100\n",
      "625/625 [==============================] - 252s 403ms/step - loss: 0.4520 - acc: 0.9018 - val_loss: 0.5288 - val_acc: 0.8542 - lr: 0.0010\n",
      "Epoch 6/100\n",
      "625/625 [==============================] - 251s 401ms/step - loss: 0.4255 - acc: 0.9125 - val_loss: 0.4688 - val_acc: 0.8936 - lr: 0.0010\n",
      "Epoch 7/100\n",
      "625/625 [==============================] - 251s 401ms/step - loss: 0.4075 - acc: 0.9223 - val_loss: 0.6437 - val_acc: 0.7893 - lr: 0.0010\n",
      "Epoch 8/100\n",
      "625/625 [==============================] - 250s 400ms/step - loss: 0.4167 - acc: 0.9265 - val_loss: 0.4457 - val_acc: 0.9091 - lr: 0.0010\n",
      "Epoch 9/100\n",
      "625/625 [==============================] - 253s 404ms/step - loss: 0.3963 - acc: 0.9312 - val_loss: 0.6389 - val_acc: 0.8201 - lr: 0.0010\n",
      "Epoch 10/100\n",
      "625/625 [==============================] - 253s 404ms/step - loss: 0.3741 - acc: 0.9380 - val_loss: 0.4225 - val_acc: 0.9183 - lr: 0.0010\n",
      "Epoch 11/100\n",
      "625/625 [==============================] - 254s 406ms/step - loss: 0.3693 - acc: 0.9423 - val_loss: 0.4200 - val_acc: 0.9135 - lr: 0.0010\n",
      "Epoch 12/100\n",
      "625/625 [==============================] - ETA: 0s - loss: 0.3557 - acc: 0.9444\n",
      "Epoch 00012: ReduceLROnPlateau reducing learning rate to 0.0005000000237487257.\n",
      "625/625 [==============================] - 258s 412ms/step - loss: 0.3557 - acc: 0.9444 - val_loss: 0.4522 - val_acc: 0.9054 - lr: 0.0010\n",
      "Epoch 13/100\n",
      "625/625 [==============================] - 257s 411ms/step - loss: 0.2437 - acc: 0.9606 - val_loss: 0.2253 - val_acc: 0.9581 - lr: 5.0000e-04\n",
      "Epoch 14/100\n",
      "625/625 [==============================] - 256s 409ms/step - loss: 0.2026 - acc: 0.9639 - val_loss: 0.2416 - val_acc: 0.9483 - lr: 5.0000e-04\n",
      "Epoch 15/100\n",
      "625/625 [==============================] - 257s 411ms/step - loss: 0.1882 - acc: 0.9672 - val_loss: 0.2098 - val_acc: 0.9597 - lr: 5.0000e-04\n",
      "Epoch 16/100\n",
      "625/625 [==============================] - 257s 412ms/step - loss: 0.1804 - acc: 0.9704 - val_loss: 0.2184 - val_acc: 0.9531 - lr: 5.0000e-04\n",
      "Epoch 17/100\n",
      "625/625 [==============================] - ETA: 0s - loss: 0.1715 - acc: 0.9734\n",
      "Epoch 00017: ReduceLROnPlateau reducing learning rate to 0.0002500000118743628.\n",
      "625/625 [==============================] - 257s 411ms/step - loss: 0.1715 - acc: 0.9734 - val_loss: 0.2449 - val_acc: 0.9439 - lr: 5.0000e-04\n",
      "Epoch 18/100\n",
      "625/625 [==============================] - 258s 413ms/step - loss: 0.1382 - acc: 0.9797 - val_loss: 0.1911 - val_acc: 0.9563 - lr: 2.5000e-04\n",
      "Epoch 19/100\n",
      "625/625 [==============================] - 261s 418ms/step - loss: 0.1135 - acc: 0.9811 - val_loss: 0.1706 - val_acc: 0.9627 - lr: 2.5000e-04\n",
      "Epoch 20/100\n",
      "625/625 [==============================] - 259s 415ms/step - loss: 0.1029 - acc: 0.9832 - val_loss: 0.1674 - val_acc: 0.9619 - lr: 2.5000e-04\n",
      "Epoch 21/100\n",
      "625/625 [==============================] - ETA: 0s - loss: 0.1020 - acc: 0.9839\n",
      "Epoch 00021: ReduceLROnPlateau reducing learning rate to 0.0001250000059371814.\n",
      "625/625 [==============================] - 259s 415ms/step - loss: 0.1020 - acc: 0.9839 - val_loss: 0.1855 - val_acc: 0.9573 - lr: 2.5000e-04\n",
      "Epoch 22/100\n",
      "625/625 [==============================] - 260s 417ms/step - loss: 0.0791 - acc: 0.9894 - val_loss: 0.1590 - val_acc: 0.9631 - lr: 1.2500e-04\n",
      "Epoch 23/100\n",
      "625/625 [==============================] - 261s 418ms/step - loss: 0.0743 - acc: 0.9882 - val_loss: 0.1533 - val_acc: 0.9651 - lr: 1.2500e-04\n",
      "Epoch 24/100\n",
      "625/625 [==============================] - 265s 424ms/step - loss: 0.0675 - acc: 0.9897 - val_loss: 0.1565 - val_acc: 0.9641 - lr: 1.2500e-04\n",
      "Epoch 25/100\n",
      "625/625 [==============================] - ETA: 0s - loss: 0.0609 - acc: 0.9912\n",
      "Epoch 00025: ReduceLROnPlateau reducing learning rate to 6.25000029685907e-05.\n",
      "625/625 [==============================] - 264s 422ms/step - loss: 0.0609 - acc: 0.9912 - val_loss: 0.1501 - val_acc: 0.9621 - lr: 1.2500e-04\n",
      "Epoch 26/100\n",
      "625/625 [==============================] - 262s 419ms/step - loss: 0.0561 - acc: 0.9918 - val_loss: 0.1465 - val_acc: 0.9649 - lr: 6.2500e-05\n",
      "Epoch 27/100\n",
      "625/625 [==============================] - ETA: 0s - loss: 0.0494 - acc: 0.9936\n",
      "Epoch 00027: ReduceLROnPlateau reducing learning rate to 3.125000148429535e-05.\n",
      "625/625 [==============================] - 264s 422ms/step - loss: 0.0494 - acc: 0.9936 - val_loss: 0.1510 - val_acc: 0.9633 - lr: 6.2500e-05\n",
      "Epoch 28/100\n",
      "625/625 [==============================] - 259s 414ms/step - loss: 0.0452 - acc: 0.9940 - val_loss: 0.1453 - val_acc: 0.9637 - lr: 3.1250e-05\n"
     ]
    }
   ],
   "source": [
    "# EarlyStopping and Reduce Learning Rate Callbacks\n",
    "my_callback_es = tf.keras.callbacks.EarlyStopping(monitor='val_acc', patience=5)\n",
    "my_callback_rlr = tf.keras.callbacks.ReduceLROnPlateau(monitor='val_acc', patience=2, factor=0.5, min_lr=0.00001, verbose=1)\n",
    "\n",
    "model = tf.keras.models.Sequential([\n",
    "    #Conv layer 1\n",
    "    tf.keras.layers.Conv2D(64, (3, 3), activation='relu', input_shape=(200, 200, 3)),\n",
    "    tf.keras.layers.BatchNormalization(),\n",
    "    tf.keras.layers.MaxPool2D(2, 2),\n",
    "    #Conv layer 2\n",
    "    tf.keras.layers.Conv2D(64, (3, 3), activation='relu'),\n",
    "    tf.keras.layers.BatchNormalization(),\n",
    "    tf.keras.layers.MaxPool2D(2, 2),\n",
    "    #Conv layer 3\n",
    "    tf.keras.layers.Conv2D(128, (3, 3), activation='relu'),\n",
    "    tf.keras.layers.BatchNormalization(),\n",
    "    tf.keras.layers.MaxPool2D(2, 2),\n",
    "    #Conv layer 4\n",
    "    tf.keras.layers.Conv2D(256, (3, 3), activation='relu'),\n",
    "    tf.keras.layers.BatchNormalization(),\n",
    "    tf.keras.layers.MaxPool2D(2, 2),\n",
    "    #Conv layer 5\n",
    "    tf.keras.layers.Conv2D(256, (3, 3), activation='relu'),\n",
    "    tf.keras.layers.BatchNormalization(),\n",
    "    tf.keras.layers.MaxPool2D(2, 2),\n",
    "    #Flatten\n",
    "    tf.keras.layers.Flatten(),\n",
    "    #Fully Connected layer\n",
    "    tf.keras.layers.Dense(1024, activation='relu', kernel_regularizer=l2(0.001)),\n",
    "    tf.keras.layers.BatchNormalization(),\n",
    "    #Dropout\n",
    "    tf.keras.layers.Dropout(0.5),\n",
    "    tf.keras.layers.Dense(1, activation='sigmoid', kernel_regularizer=l2(0.001))\n",
    "    \n",
    "])\n",
    "model.summary()\n",
    "model.compile(optimizer='adam', loss='binary_crossentropy', metrics=['acc'])\n",
    "\n",
    "history = model.fit_generator(\n",
    "    train_generator, \n",
    "    steps_per_epoch = len(train_set) // 32,\n",
    "    epochs = 100,\n",
    "    verbose = 1,\n",
    "    validation_data = validation_generator,\n",
    "    validation_steps = len(val_set) // 32,\n",
    "    callbacks=[my_callback_es, my_callback_rlr])\n"
   ]
  },
  {
   "cell_type": "markdown",
   "execution_count": null,
   "metadata": {},
   "source": [
    "# Visualizing Accuracy and Loss"
   ]
  },
  {
   "cell_type": "code",
   "execution_count": 10,
   "metadata": {},
   "outputs": [
    {
     "data": {
      "image/png": "[encoded data removed]",
      "text/plain": [
       "<Figure size 432x288 with 1 Axes>"
      ]
     },
     "metadata": {
      "needs_background": "light"
     },
     "output_type": "display_data"
    },
    {
     "data": {
      "image/png": "[encoded data removed]",
      "text/plain": [
       "<Figure size 432x288 with 1 Axes>"
      ]
     },
     "metadata": {
      "needs_background": "light"
     },
     "output_type": "display_data"
    }
   ],
   "source": [
    "acc = history.history['acc']\n",
    "val_acc = history.history['val_acc']\n",
    "loss = history.history['loss']\n",
    "val_loss = history.history['val_loss']\n",
    "\n",
    "epochs = range(len(acc))\n",
    "\n",
    "plt.plot(epochs, acc, 'r', label='Training accuracy')\n",
    "plt.plot(epochs, val_acc, 'b', label='Validation accuracy')\n",
    "plt.title('Training and validation accuracy')\n",
    "\n",
    "plt.figure()\n",
    "\n",
    "plt.plot(epochs, loss, 'r', label='Training Loss')\n",
    "plt.plot(epochs, val_loss, 'b', label='Validation Loss')\n",
    "plt.ylim(top=1.0)\n",
    "plt.title('Training and validation loss')\n",
    "plt.legend(loc=0)\n",
    "\n",
    "plt.show()"
   ]
  },
  {
   "cell_type": "markdown",
   "execution_count": null,
   "metadata": {},
   "source": [
    "**Saving model for later use.**"
   ]
  },
  {
   "cell_type": "code",
   "execution_count": 11,
   "metadata": {},
   "outputs": [],
   "source": [
    "model.save_weights('Dense1024_Dropout_model_wieghts.h5')\n",
    "model.save('Dense1024_Dropout_model_keras.h5')"
   ]
  },
  {
   "cell_type": "markdown",
   "execution_count": null,
   "metadata": {},
   "source": [
    "**Extracting test file into 'testing' directory.**"
   ]
  },
  {
   "cell_type": "code",
   "execution_count": 12,
   "metadata": {},
   "outputs": [],
   "source": [
    "local_zip = '/kaggle/input/dogs-vs-cats-redux-kernels-edition/test.zip'\n",
    "zip_ref = zipfile.ZipFile(local_zip, 'r')\n",
    "zip_ref.extractall('testing')\n",
    "zip_ref.close()"
   ]
  },
  {
   "cell_type": "code",
   "execution_count": 13,
   "metadata": {},
   "outputs": [
    {
     "name": "stdout",
     "output_type": "stream",
     "text": [
      "12500\n",
      "['28.jpg', '2730.jpg', '3567.jpg', '4145.jpg', '1148.jpg']\n",
      "[28, 2730, 3567, 4145, 1148]\n"
     ]
    }
   ],
   "source": [
    "test_images = os.listdir('/kaggle/working/testing/test')\n",
    "print(len(test_images))\n",
    "\n",
    "print(test_images[0:5])\n",
    "\n",
    "ID = [int(test_img[:-4]) for test_img in test_images]\n",
    "print(ID[0:5])"
   ]
  },
  {
   "cell_type": "markdown",
   "execution_count": null,
   "metadata": {},
   "source": [
    "# Preparing Test data"
   ]
  },
  {
   "cell_type": "code",
   "execution_count": 14,
   "metadata": {},
   "outputs": [
    {
     "name": "stdout",
     "output_type": "stream",
     "text": [
      "Found 12500 images belonging to 1 classes.\n",
      "391/391 [==============================] - 42s 107ms/step\n"
     ]
    }
   ],
   "source": [
    "test_dir = \"/kaggle/working/testing/\"\n",
    "test_datagen = ImageDataGenerator(rescale=1./255)\n",
    "\n",
    "test_generator = test_datagen.flow_from_directory(\n",
    "                 test_dir,\n",
    "                 target_size=(200, 200),\n",
    "                 batch_size=32,\n",
    "                 class_mode='binary',\n",
    "                 shuffle=False)\n",
    "\n",
    "test_generator.reset()\n",
    "predictions = model.predict_generator(test_generator, verbose=1)"
   ]
  },
  {
   "cell_type": "markdown",
   "execution_count": null,
   "metadata": {},
   "source": [
    "**Flatten the prections for submission.**"
   ]
  },
  {
   "cell_type": "code",
   "execution_count": 15,
   "metadata": {},
   "outputs": [],
   "source": [
    "predictions = predictions.flatten()"
   ]
  },
  {
   "cell_type": "code",
   "execution_count": 16,
   "metadata": {},
   "outputs": [
    {
     "data": {
      "text/html": [
       "<div>\n",
       "<style scoped>\n",
       "    .dataframe tbody tr th:only-of-type {\n",
       "        vertical-align: middle;\n",
       "    }\n",
       "\n",
       "    .dataframe tbody tr th {\n",
       "        vertical-align: top;\n",
       "    }\n",
       "\n",
       "    .dataframe thead th {\n",
       "        text-align: right;\n",
       "    }\n",
       "</style>\n",
       "<table border=\"1\" class=\"dataframe\">\n",
       "  <thead>\n",
       "    <tr style=\"text-align: right;\">\n",
       "      <th></th>\n",
       "      <th>id</th>\n",
       "      <th>label</th>\n",
       "    </tr>\n",
       "  </thead>\n",
       "  <tbody>\n",
       "    <tr>\n",
       "      <th>0</th>\n",
       "      <td>28</td>\n",
       "      <td>9.999907e-01</td>\n",
       "    </tr>\n",
       "    <tr>\n",
       "      <th>1</th>\n",
       "      <td>2730</td>\n",
       "      <td>1.282876e-07</td>\n",
       "    </tr>\n",
       "    <tr>\n",
       "      <th>2</th>\n",
       "      <td>3567</td>\n",
       "      <td>7.193036e-02</td>\n",
       "    </tr>\n",
       "    <tr>\n",
       "      <th>3</th>\n",
       "      <td>4145</td>\n",
       "      <td>1.000000e+00</td>\n",
       "    </tr>\n",
       "    <tr>\n",
       "      <th>4</th>\n",
       "      <td>1148</td>\n",
       "      <td>9.957204e-01</td>\n",
       "    </tr>\n",
       "  </tbody>\n",
       "</table>\n",
       "</div>"
      ],
      "text/plain": [
       "     id         label\n",
       "0    28  9.999907e-01\n",
       "1  2730  1.282876e-07\n",
       "2  3567  7.193036e-02\n",
       "3  4145  1.000000e+00\n",
       "4  1148  9.957204e-01"
      ]
     },
     "execution_count": 16,
     "metadata": {},
     "output_type": "execute_result"
    }
   ],
   "source": [
    "submission = pd.DataFrame({\"id\": ID, \"label\": predictions})\n",
    "submission.to_csv(\"dogs_cats.csv\", index = False)\n",
    "submission.head()"
   ]
  }
 ],
 "metadata": {
  "kernelspec": {
   "display_name": "Python 3",
   "language": "python",
   "name": "python3"
  },
  "language_info": {
   "codemirror_mode": {
    "name": "ipython",
    "version": 3
   },
   "file_extension": ".py",
   "mimetype": "text/x-python",
   "name": "python",
   "nbconvert_exporter": "python",
   "pygments_lexer": "ipython3",
   "version": "3.7.6"
  }
 },
 "nbformat": 4,
 "nbformat_minor": 4
}
